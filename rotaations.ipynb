{
 "cells": [
  {
   "cell_type": "code",
   "execution_count": 9,
   "metadata": {
    "collapsed": false
   },
   "outputs": [],
   "source": [
    "import numpy as np\n",
    "import numpy.linalg as la\n",
    "import matplotlib.pyplot as plt"
   ]
  },
  {
   "cell_type": "code",
   "execution_count": 41,
   "metadata": {
    "collapsed": false
   },
   "outputs": [],
   "source": [
    "def create_rotation(X, neig):\n",
    "    shape = X.shape\n",
    "    U,s,Vt = la.svd(X)\n",
    "    #Vprimet = np.zeros_like(Vt)\n",
    "    Pt = Vt[:neig,:]\n",
    "    #Wt = np.zeros_like(Vt)\n",
    "    Rt = Vt[neig:,:]\n",
    "    return Pt.T, Rt.T\n",
    "    "
   ]
  },
  {
   "cell_type": "code",
   "execution_count": 138,
   "metadata": {
    "collapsed": false
   },
   "outputs": [],
   "source": [
    "Xo = np.random.rand(350, 100)\n",
    "Xo = Xo - np.mean(Xo, axis = 1)[:,np.newaxis]\n",
    "X = Xo.copy()\n",
    "nrep = Xo.shape[1]\n",
    "Neig_total = 100 #Estimate from full hessian\n",
    "Rold = None\n",
    "index = 0\n",
    "result = np.zeros(shape=(nrep,Neig_total))\n",
    "for _ in range(2):\n",
    "    neig = 20\n",
    "    P, R = create_rotation(X, neig)\n",
    "    X = np.dot(X, R)\n",
    "    if Rold is not None:\n",
    "        P = np.dot(Rold, P)\n",
    "        R = np.dot(Rold, R)\n",
    "    result[:,index:index+neig] = P\n",
    "    index += neig\n",
    "    Rold = R\n",
    "if index < Neig_total:\n",
    "    result[:, index:Neig_total] = R[:, :Neig_total - index]\n",
    "        \n",
    "    "
   ]
  },
  {
   "cell_type": "code",
   "execution_count": null,
   "metadata": {
    "collapsed": false
   },
   "outputs": [],
   "source": []
  },
  {
   "cell_type": "code",
   "execution_count": 139,
   "metadata": {
    "collapsed": true
   },
   "outputs": [],
   "source": [
    "a,b,c = create_rotation(X, neig)"
   ]
  },
  {
   "cell_type": "code",
   "execution_count": 140,
   "metadata": {
    "collapsed": false
   },
   "outputs": [
    {
     "data": {
      "text/plain": [
       "(60, 60)"
      ]
     },
     "execution_count": 140,
     "metadata": {},
     "output_type": "execute_result"
    }
   ],
   "source": [
    "c.shape"
   ]
  },
  {
   "cell_type": "code",
   "execution_count": 141,
   "metadata": {
    "collapsed": false
   },
   "outputs": [
    {
     "data": {
      "text/plain": [
       "1.0000000000000022"
      ]
     },
     "execution_count": 141,
     "metadata": {},
     "output_type": "execute_result"
    }
   ],
   "source": [
    "np.dot(result[:,30],result[:,30])"
   ]
  },
  {
   "cell_type": "code",
   "execution_count": 142,
   "metadata": {
    "collapsed": false,
    "scrolled": true
   },
   "outputs": [
    {
     "data": {
      "text/plain": [
       "True"
      ]
     },
     "execution_count": 142,
     "metadata": {},
     "output_type": "execute_result"
    }
   ],
   "source": [
    "def ok(i, j):\n",
    "    dot = np.dot(result[:,i],result[:,j])\n",
    "    if i == j:\n",
    "        return(np.allclose(dot,1))\n",
    "    else:\n",
    "        return(np.allclose(dot,0))\n",
    "all(ok(i, j) for i in range(Neig_total) for j in range(Neig_total))"
   ]
  },
  {
   "cell_type": "code",
   "execution_count": 143,
   "metadata": {
    "collapsed": false
   },
   "outputs": [
    {
     "data": {
      "text/plain": [
       "(100, 100)"
      ]
     },
     "execution_count": 143,
     "metadata": {},
     "output_type": "execute_result"
    }
   ],
   "source": [
    "result.shape"
   ]
  },
  {
   "cell_type": "code",
   "execution_count": 144,
   "metadata": {
    "collapsed": false
   },
   "outputs": [
    {
     "data": {
      "text/plain": [
       "array([[ 1.,  1.,  1., ...,  1.,  1.,  1.],\n",
       "       [ 1.,  1.,  1., ...,  1.,  1.,  1.],\n",
       "       [ 1.,  1.,  1., ...,  1.,  1.,  1.],\n",
       "       ..., \n",
       "       [ 1.,  1.,  1., ...,  1.,  1.,  1.],\n",
       "       [ 1.,  1.,  1., ...,  1.,  1.,  1.],\n",
       "       [ 1.,  1.,  1., ...,  1.,  1.,  1.]])"
      ]
     },
     "execution_count": 144,
     "metadata": {},
     "output_type": "execute_result"
    }
   ],
   "source": [
    "sqrt = (np.dot(Xo,result))\n",
    "(nrep - 1) * np.cov(Xo)/np.dot(sqrt,sqrt.T)"
   ]
  },
  {
   "cell_type": "code",
   "execution_count": 117,
   "metadata": {
    "collapsed": false
   },
   "outputs": [
    {
     "data": {
      "text/plain": [
       "array([[  1.00000000e+00,   2.52479697e-16,  -2.19409031e-16, ...,\n",
       "          2.34249144e-16,   4.00307885e-16,  -9.75322601e-17],\n",
       "       [  2.52479697e-16,   1.00000000e+00,  -2.17635573e-17, ...,\n",
       "          2.83460756e-16,  -3.63787929e-16,   1.95776855e-16],\n",
       "       [ -2.19409031e-16,  -2.17635573e-17,   1.00000000e+00, ...,\n",
       "         -4.64640524e-16,   1.43184515e-16,   4.59214977e-16],\n",
       "       ..., \n",
       "       [  2.34249144e-16,   2.83460756e-16,  -4.64640524e-16, ...,\n",
       "          1.00000000e+00,   3.05415643e-16,   6.88290638e-17],\n",
       "       [  4.00307885e-16,  -3.63787929e-16,   1.43184515e-16, ...,\n",
       "          3.05415643e-16,   1.00000000e+00,  -3.06078811e-16],\n",
       "       [ -9.75322601e-17,   1.95776855e-16,   4.59214977e-16, ...,\n",
       "          6.88290638e-17,  -3.06078811e-16,   1.00000000e+00]])"
      ]
     },
     "execution_count": 117,
     "metadata": {},
     "output_type": "execute_result"
    }
   ],
   "source": [
    "np.dot(result, result.T)"
   ]
  },
  {
   "cell_type": "code",
   "execution_count": 132,
   "metadata": {
    "collapsed": false
   },
   "outputs": [
    {
     "data": {
      "text/plain": [
       "array([[ 0.08149776,  0.01045882, -0.01591177, ..., -0.00863297,\n",
       "         0.01447076,  0.00630556],\n",
       "       [ 0.01045882,  0.08137559, -0.00597434, ..., -0.00198008,\n",
       "         0.00756233, -0.00646403],\n",
       "       [-0.01591177, -0.00597434,  0.0863262 , ..., -0.00590001,\n",
       "        -0.01164014, -0.0021712 ],\n",
       "       ..., \n",
       "       [-0.00863297, -0.00198008, -0.00590001, ...,  0.08413672,\n",
       "        -0.00740291, -0.00477473],\n",
       "       [ 0.01447076,  0.00756233, -0.01164014, ..., -0.00740291,\n",
       "         0.09062548,  0.00761883],\n",
       "       [ 0.00630556, -0.00646403, -0.0021712 , ..., -0.00477473,\n",
       "         0.00761883,  0.08867983]])"
      ]
     },
     "execution_count": 132,
     "metadata": {},
     "output_type": "execute_result"
    }
   ],
   "source": [
    "np.cov(Xo, rowvar=True)"
   ]
  },
  {
   "cell_type": "code",
   "execution_count": 131,
   "metadata": {
    "collapsed": false
   },
   "outputs": [
    {
     "data": {
      "text/plain": [
       "array([[ 0.34214338,  0.27847184,  0.23412369, ...,  0.24412388,\n",
       "         0.27692207,  0.277978  ],\n",
       "       [ 0.27847184,  0.35696426,  0.25112861, ...,  0.25792118,\n",
       "         0.27743207,  0.27288749],\n",
       "       [ 0.23412369,  0.25112861,  0.32618341, ...,  0.2365678 ,\n",
       "         0.2401275 ,  0.25844221],\n",
       "       ..., \n",
       "       [ 0.24412388,  0.25792118,  0.2365678 , ...,  0.32924355,\n",
       "         0.24710497,  0.25867519],\n",
       "       [ 0.27692207,  0.27743207,  0.2401275 , ...,  0.24710497,\n",
       "         0.35489498,  0.28117335],\n",
       "       [ 0.277978  ,  0.27288749,  0.25844221, ...,  0.25867519,\n",
       "         0.28117335,  0.37184558]])"
      ]
     },
     "execution_count": 131,
     "metadata": {},
     "output_type": "execute_result"
    }
   ],
   "source": [
    "np.dot(Xo,Xo.T)/99."
   ]
  },
  {
   "cell_type": "code",
   "execution_count": 133,
   "metadata": {
    "collapsed": true
   },
   "outputs": [],
   "source": [
    "np.cov??"
   ]
  },
  {
   "cell_type": "code",
   "execution_count": 134,
   "metadata": {
    "collapsed": false
   },
   "outputs": [
    {
     "data": {
      "text/plain": [
       "array([[ 0.07763513,  0.99349401,  0.8254121 , ...,  0.22692671,\n",
       "         0.35371895,  0.62659732],\n",
       "       [ 0.58330846,  0.15821505,  0.66512873, ...,  0.36053187,\n",
       "         0.47776306,  0.02414293],\n",
       "       [ 0.87183975,  0.62473777,  0.95053858, ...,  0.60342066,\n",
       "         0.13200026,  0.22491344],\n",
       "       ..., \n",
       "       [ 0.14605137,  0.66253981,  0.75806218, ...,  0.68795052,\n",
       "         0.76185258,  0.20645203],\n",
       "       [ 0.0882038 ,  0.44850061,  0.75627884, ...,  0.51651114,\n",
       "         0.73987609,  0.37651301],\n",
       "       [ 0.67972729,  0.54601329,  0.78349374, ...,  0.36163967,\n",
       "         0.01822501,  0.80606089]])"
      ]
     },
     "execution_count": 134,
     "metadata": {},
     "output_type": "execute_result"
    }
   ],
   "source": []
  },
  {
   "cell_type": "code",
   "execution_count": null,
   "metadata": {
    "collapsed": true
   },
   "outputs": [],
   "source": []
  }
 ],
 "metadata": {
  "kernelspec": {
   "display_name": "Python 3",
   "language": "python",
   "name": "python3"
  },
  "language_info": {
   "codemirror_mode": {
    "name": "ipython",
    "version": 3
   },
   "file_extension": ".py",
   "mimetype": "text/x-python",
   "name": "python",
   "nbconvert_exporter": "python",
   "pygments_lexer": "ipython3",
   "version": "3.4.3"
  }
 },
 "nbformat": 4,
 "nbformat_minor": 0
}
